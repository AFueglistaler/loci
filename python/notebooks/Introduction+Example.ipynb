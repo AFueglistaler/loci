{
 "cells": [
  {
   "cell_type": "markdown",
   "metadata": {},
   "source": [
    "# Smooth Cubic Multivariate Local Interpolations\n",
    "\n",
    "* Cubic grid interpolation scheme in up to 4 dimensions\n",
    "* Uses only local data, i.e. grid points touching a cell\n",
    "* Uses values and all combinations of first-order derivatives, e.g. in 2D f_x, f_y, f_xy\n",
    "* Based on Lekien & Marsden 2005:\n",
    "   * Only 3D\n",
    "   * Coefficients calculated by Matrix inversion (slow)\n",
    "* Our improvements:\n",
    "   * Added 1D to 4D\n",
    "   * Coefficients directly calculated by Maple-generated C-code\n",
    "\n",
    "## `LocalInterpolations.jl`\n",
    "\n",
    "* Julia package\n",
    "\n",
    "## `loci`\n",
    "\n",
    "* Library written in C\n",
    "* Static library for C/C++\n",
    "* Shared library for Python and others (e.g. FORTRAN)"
   ]
  },
  {
   "cell_type": "markdown",
   "metadata": {},
   "source": [
    "## Python usage\n",
    "\n",
    "### import numpy, scipy and loci"
   ]
  },
  {
   "cell_type": "code",
   "execution_count": null,
   "metadata": {},
   "outputs": [],
   "source": [
    "from numpy import *\n",
    "\n",
    "from loci import Interpolation, Range"
   ]
  },
  {
   "cell_type": "markdown",
   "metadata": {},
   "source": [
    "### import libraries for example"
   ]
  },
  {
   "cell_type": "code",
   "execution_count": null,
   "metadata": {},
   "outputs": [],
   "source": [
    "%matplotlib inline \n",
    "from matplotlib.pyplot import *\n",
    "from scipy import *\n",
    "\n",
    "rcParams['figure.figsize'] = (10, 6)\n",
    "rcParams.update({'font.size': 16})\n",
    "\n",
    "#Plotting Colors\n",
    "lin  = [\"#000000\", \"#FF0000\", \"#0000FF\", \"#FFA500\", \"#008000\", \"#808080\", \n",
    "        \"#800080\", \"#008080\"]"
   ]
  },
  {
   "cell_type": "markdown",
   "metadata": {},
   "source": [
    "### Define functions and derivatives"
   ]
  },
  {
   "cell_type": "code",
   "execution_count": null,
   "metadata": {},
   "outputs": [],
   "source": [
    "A=2.\n",
    "B=0.5\n",
    "def f(x, y):    return log(A*x**2 + B*y**2 + 1)\n",
    "def f_x(x, y):  return 2*A*x/(A*x**2 + B*y**2 + 1)\n",
    "def f_y(x, y):  return 2*B*y/(A*x**2 + B*y**2 + 1)\n",
    "def f_xy(x, y): return -4*A*B*x*y/(A*x**2 + B*y**2 + 1)**2"
   ]
  },
  {
   "cell_type": "markdown",
   "metadata": {},
   "source": [
    "### Define interpolation ranges"
   ]
  },
  {
   "cell_type": "code",
   "execution_count": null,
   "metadata": {},
   "outputs": [],
   "source": [
    "rx  = Range(1., 0.1, 10)    #x0 =1., dx=0.1, lenght=\n",
    "ry  = Range(-2., 0.5, 20)"
   ]
  },
  {
   "cell_type": "markdown",
   "metadata": {},
   "source": [
    "rx = $1.0, 1.1, ..., 1.9$\n",
    "\n",
    "#### Last element of `rx`\n",
    "   `rx.x0 + (rx.len - 1)*rx.dx`"
   ]
  },
  {
   "cell_type": "markdown",
   "metadata": {},
   "source": [
    "### Create interpolation"
   ]
  },
  {
   "cell_type": "code",
   "execution_count": null,
   "metadata": {},
   "outputs": [],
   "source": [
    "ip  = Interpolation(rx, ry, f, f_x, f_y, f_xy)"
   ]
  },
  {
   "cell_type": "markdown",
   "metadata": {},
   "source": [
    "`ip` is defined on Range from `rx.x0` to `(rx.len - 2)*rx.dx`. Last gridpoint of rx out of bounds!"
   ]
  },
  {
   "cell_type": "markdown",
   "metadata": {},
   "source": [
    "### Interpolate at a given point"
   ]
  },
  {
   "cell_type": "code",
   "execution_count": null,
   "metadata": {},
   "outputs": [],
   "source": [
    "xt  = rx.x0 + rand()*(rx.len - 2)*rx.dx\n",
    "yt  = ry.x0 + rand()*(ry.len - 2)*ry.dx\n",
    "\n",
    "f0  = f(xt, yt)\n",
    "fi  = ip.interpolate(xt, yt)\n",
    "\n",
    "d   = fi/f0 - 1.\n",
    "\n",
    "print \" f(%f, %f)\\t= %0.8e\"%(xt, yt, f0)\n",
    "print \"ip(%f, %f)\\t= %0.8e\"%(xt, yt, fi)\n",
    "print \"diff\\t\\t\\t= %0.8e\"%d"
   ]
  },
  {
   "cell_type": "markdown",
   "metadata": {},
   "source": [
    "### Interpolated derivatives in x and y"
   ]
  },
  {
   "cell_type": "code",
   "execution_count": null,
   "metadata": {},
   "outputs": [],
   "source": [
    "d_x = ip.diff_x(xt, yt)/f_x(xt, yt) - 1\n",
    "d_y = ip.diff_y(xt, yt)/f_y(xt, yt) - 1\n",
    "\n",
    "print \"diff_x =  %e\\ndiff_y = %e\"%(d_x, d_y)"
   ]
  },
  {
   "cell_type": "markdown",
   "metadata": {},
   "source": [
    "### Interpolated 2nd-order x and 3rd-order y derivative"
   ]
  },
  {
   "cell_type": "code",
   "execution_count": null,
   "metadata": {},
   "outputs": [],
   "source": [
    "print ip.diff(1, 0, xt, yt)"
   ]
  },
  {
   "cell_type": "markdown",
   "metadata": {},
   "source": [
    "### Interpolate out of bounds"
   ]
  },
  {
   "cell_type": "code",
   "execution_count": null,
   "metadata": {},
   "outputs": [],
   "source": [
    "print ip.interpolate(rx.x0 - 1, ry.x0)\n",
    "print ip.interpolate(rx.x0, ry.x0 + (ry.len-1)*ry.dx)"
   ]
  },
  {
   "cell_type": "markdown",
   "metadata": {},
   "source": [
    "### Create points in range rx for mapping"
   ]
  },
  {
   "cell_type": "code",
   "execution_count": null,
   "metadata": {},
   "outputs": [],
   "source": [
    "xs  = r_[rx.x0:rx.x0+(rx.len - 1)*rx.dx:rx.dx/1000]\n",
    "ys  = zeros(len(xs))\n",
    "\n",
    "fs  = f(xs, ys)\n",
    "ips = ip.map(xs, ys)"
   ]
  },
  {
   "cell_type": "markdown",
   "metadata": {},
   "source": [
    "### Map interpolation and derivatives in x, y and 2nd-order x and 3rd-order y on points"
   ]
  },
  {
   "cell_type": "code",
   "execution_count": null,
   "metadata": {},
   "outputs": [],
   "source": [
    "plot(xs, fs, \"-\", color=lin[3], linewidth=3, label=\"$f(x, y=0)$\")\n",
    "plot(xs, ips, \"-\", color=lin[0], label=\"ip$(x, y=0)$\")\n",
    "plot(xs, ip.map_x(xs, ys), \"-\", color=lin[1], label=\"ip$_x(x, y=0)$\")\n",
    "plot(xs, ip.map_y(xs, ys), \"-\", color=lin[2], label=\"ip$_y(x, y=0)$\")\n",
    "plot(xs, ip.map_diff(2, 3, xs, ys), \"-\", color=lin[4], label=\"ip$_{xx,yyy}(x, y=0)$\")\n",
    "\n",
    "legend(loc=0, fontsize=12)\n",
    "xlabel(\"$x$\")"
   ]
  },
  {
   "cell_type": "code",
   "execution_count": null,
   "metadata": {},
   "outputs": [],
   "source": [
    "semilogy(xs, abs(fs/ips - 1), \"-\", color=lin[0])\n",
    "\n",
    "xlabel(\"$x$\")\n",
    "ylabel(\"$f/\\mathrm{ip}-1$\")"
   ]
  },
  {
   "cell_type": "code",
   "execution_count": null,
   "metadata": {},
   "outputs": [],
   "source": []
  }
 ],
 "metadata": {
  "kernelspec": {
   "display_name": "Python 2",
   "language": "python",
   "name": "python2"
  },
  "language_info": {
   "codemirror_mode": {
    "name": "ipython",
    "version": 2
   },
   "file_extension": ".py",
   "mimetype": "text/x-python",
   "name": "python",
   "nbconvert_exporter": "python",
   "pygments_lexer": "ipython2",
   "version": "2.7.14"
  }
 },
 "nbformat": 4,
 "nbformat_minor": 2
}
