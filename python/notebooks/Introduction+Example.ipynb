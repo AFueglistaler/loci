{
 "cells": [
  {
   "cell_type": "markdown",
   "metadata": {},
   "source": [
    "# Smooth Cubic Multivariate Local Interpolations\n",
    "\n",
    "* Cubic interpolation scheme in up to 4 dimensions\n",
    "* Uses only local data, i.e. grid points touching a cell\n",
    "* Uses values and all combinations of first-order derivatives, e.g. in 2D f_x, f_y, f_xy\n",
    "* Based on Lekien & Marsden 2005\n",
    "* Only 3D\n",
    "* Coefficients calculated by Matrix inversion (slow)\n",
    "* Improvements by Daniel Pfenniger:\n",
    "* Added 1D - 4D\n",
    "* Coefficient directly calculated (Maple-generated code)\n",
    "\n",
    "## LocalInterpolations.jl\n",
    "\n",
    "* Julia package\n",
    "\n",
    "## loci\n",
    "\n",
    "* Library written in C\n",
    "* Static library for C/C++\n",
    "* Shared library for Python and others (e.g. FORTRAN)"
   ]
  },
  {
   "cell_type": "markdown",
   "metadata": {},
   "source": [
    "## Python usage\n",
    "\n",
    "### import numpy, scipy and classes of loci"
   ]
  },
  {
   "cell_type": "code",
   "execution_count": null,
   "metadata": {},
   "outputs": [],
   "source": [
    "from numpy import *\n",
    "from scipy import *\n",
    "from loci import Interpolation, Range"
   ]
  },
  {
   "cell_type": "markdown",
   "metadata": {},
   "source": [
    "### Define functions and derivative"
   ]
  },
  {
   "cell_type": "code",
   "execution_count": null,
   "metadata": {},
   "outputs": [],
   "source": [
    "A=2.\n",
    "B=0.5\n",
    "def f(x, y):    return log(A*x**2 + B*y**2 + 1)\n",
    "def f_x(x, y):  return 2*A*x/(A*x**2 + B*y**2 + 1)\n",
    "def f_y(x, y):  return 2*B*y/(A*x**2 + B*y**2 + 1)\n",
    "def f_xy(x, y): return -4*A*B*x*y/(A*x**2 + B*y**2 + 1)**2"
   ]
  },
  {
   "cell_type": "markdown",
   "metadata": {},
   "source": [
    "### Define interpolation ranges"
   ]
  },
  {
   "cell_type": "code",
   "execution_count": null,
   "metadata": {},
   "outputs": [],
   "source": [
    "rx  = Range(1., 0.1, 10)    #x0 =1., dx=0.1, lenght=10\n",
    "ry  = Range(-2., 0.5, 20)"
   ]
  },
  {
   "cell_type": "markdown",
   "metadata": {},
   "source": [
    "### Create interpolation"
   ]
  },
  {
   "cell_type": "code",
   "execution_count": null,
   "metadata": {},
   "outputs": [],
   "source": [
    "ip  = Interpolation(rx, ry, f, f_x, f_y, f_xy)"
   ]
  },
  {
   "cell_type": "markdown",
   "metadata": {},
   "source": [
    "### Interpolate at a given point"
   ]
  },
  {
   "cell_type": "code",
   "execution_count": null,
   "metadata": {},
   "outputs": [],
   "source": [
    "xt  = rx.x0 + rand()*(rx.len - 2)*rx.dx\n",
    "yt  = ry.x0 + rand()*(ry.len - 2)*ry.dx\n",
    "\n",
    "d   = ip.interpolate(xt, yt) - f(xt, yt)\n",
    "\n",
    "print \"ip(%f, %f) - f(...) = %e\"%(xt, yt, d)"
   ]
  },
  {
   "cell_type": "markdown",
   "metadata": {},
   "source": [
    "### Interpolate derivatives in x and y"
   ]
  },
  {
   "cell_type": "code",
   "execution_count": null,
   "metadata": {},
   "outputs": [],
   "source": [
    "d_x = ip.diff_x(xt, yt) - f_x(xt, yt)\n",
    "d_y = ip.diff_y(xt, yt) - f_y(xt, yt)\n",
    "\n",
    "print \"d_x = %e\\nd_y = %e\"%(d_x, d_y)"
   ]
  },
  {
   "cell_type": "markdown",
   "metadata": {},
   "source": [
    "### Interpolate 2nd-order x and 3rd-order y derivative"
   ]
  },
  {
   "cell_type": "code",
   "execution_count": null,
   "metadata": {},
   "outputs": [],
   "source": [
    "print ip.diff(2, 3, xt, yt)"
   ]
  },
  {
   "cell_type": "markdown",
   "metadata": {},
   "source": [
    "### Interpolate out of bounds"
   ]
  },
  {
   "cell_type": "code",
   "execution_count": null,
   "metadata": {},
   "outputs": [],
   "source": [
    "print ip.interpolate(rx.x0 - 1, ry.x0 - 1)"
   ]
  },
  {
   "cell_type": "markdown",
   "metadata": {},
   "source": [
    "### Create random points in ranges rx and ry"
   ]
  },
  {
   "cell_type": "code",
   "execution_count": null,
   "metadata": {},
   "outputs": [],
   "source": [
    "N   = int(1e7)\n",
    "xs  = rx.x0 + rand(N)*(rx.len - 2)*rx.dx\n",
    "ys  = ry.x0 + rand(N)*(ry.len - 2)*ry.dx"
   ]
  },
  {
   "cell_type": "markdown",
   "metadata": {},
   "source": [
    "### Map interpolation on points"
   ]
  },
  {
   "cell_type": "code",
   "execution_count": null,
   "metadata": {},
   "outputs": [],
   "source": [
    "print ip.map(xs, ys)"
   ]
  },
  {
   "cell_type": "markdown",
   "metadata": {},
   "source": [
    "### Map derivativews in x and y on points"
   ]
  },
  {
   "cell_type": "code",
   "execution_count": null,
   "metadata": {},
   "outputs": [],
   "source": [
    "print ip.map_x(xs, ys)\n",
    "print ip.map_y(xs, ys)"
   ]
  },
  {
   "cell_type": "markdown",
   "metadata": {},
   "source": [
    "### Map 2nd-order x and 3rd-order y derivative on points"
   ]
  },
  {
   "cell_type": "code",
   "execution_count": null,
   "metadata": {},
   "outputs": [],
   "source": [
    "print ip.map_diff(2, 3, xs, ys)"
   ]
  }
 ],
 "metadata": {
  "kernelspec": {
   "display_name": "Python 2",
   "language": "python",
   "name": "python2"
  },
  "language_info": {
   "codemirror_mode": {
    "name": "ipython",
    "version": 2
   },
   "file_extension": ".py",
   "mimetype": "text/x-python",
   "name": "python",
   "nbconvert_exporter": "python",
   "pygments_lexer": "ipython2",
   "version": "2.7.13"
  }
 },
 "nbformat": 4,
 "nbformat_minor": 2
}
